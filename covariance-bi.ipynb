{
 "cells": [
  {
   "cell_type": "code",
   "execution_count": null,
   "id": "b2149e79",
   "metadata": {},
   "outputs": [],
   "source": [
    "#Bivariate-Analysis of 2 columns\n",
    "#-Covariance(It estimate the change between 2 or more variables)\n"
   ]
  },
  {
   "cell_type": "code",
   "execution_count": 1,
   "id": "5f8eb122",
   "metadata": {},
   "outputs": [],
   "source": [
    "#import libraries and load dataset\n",
    "import pandas as pd\n",
    "dataset=pd.read_csv(\"Pre_processed_Placement.csv\")"
   ]
  },
  {
   "cell_type": "code",
   "execution_count": 3,
   "id": "c0e1ae85",
   "metadata": {
    "scrolled": true
   },
   "outputs": [
    {
     "data": {
      "text/plain": [
       "58.85325297544013"
      ]
     },
     "execution_count": 3,
     "metadata": {},
     "output_type": "execute_result"
    }
   ],
   "source": [
    "#finding covariance between two columns\n",
    "dataset[\"ssc_p\"].cov(dataset[\"hsc_p\"])"
   ]
  },
  {
   "cell_type": "code",
   "execution_count": 4,
   "id": "8e279c9f",
   "metadata": {},
   "outputs": [
    {
     "data": {
      "text/html": [
       "<div>\n",
       "<style scoped>\n",
       "    .dataframe tbody tr th:only-of-type {\n",
       "        vertical-align: middle;\n",
       "    }\n",
       "\n",
       "    .dataframe tbody tr th {\n",
       "        vertical-align: top;\n",
       "    }\n",
       "\n",
       "    .dataframe thead th {\n",
       "        text-align: right;\n",
       "    }\n",
       "</style>\n",
       "<table border=\"1\" class=\"dataframe\">\n",
       "  <thead>\n",
       "    <tr style=\"text-align: right;\">\n",
       "      <th></th>\n",
       "      <th>sl_no</th>\n",
       "      <th>ssc_p</th>\n",
       "      <th>hsc_p</th>\n",
       "      <th>degree_p</th>\n",
       "      <th>etest_p</th>\n",
       "      <th>mba_p</th>\n",
       "      <th>salary</th>\n",
       "    </tr>\n",
       "  </thead>\n",
       "  <tbody>\n",
       "    <tr>\n",
       "      <th>sl_no</th>\n",
       "      <td>3870.000000</td>\n",
       "      <td>-52.641355</td>\n",
       "      <td>-59.598879</td>\n",
       "      <td>-41.465047</td>\n",
       "      <td>52.556168</td>\n",
       "      <td>8.102336</td>\n",
       "      <td>1.138318e+04</td>\n",
       "    </tr>\n",
       "    <tr>\n",
       "      <th>ssc_p</th>\n",
       "      <td>-52.641355</td>\n",
       "      <td>117.228377</td>\n",
       "      <td>58.853253</td>\n",
       "      <td>42.702550</td>\n",
       "      <td>37.659225</td>\n",
       "      <td>24.535952</td>\n",
       "      <td>9.088585e+05</td>\n",
       "    </tr>\n",
       "    <tr>\n",
       "      <th>hsc_p</th>\n",
       "      <td>-59.598879</td>\n",
       "      <td>58.853253</td>\n",
       "      <td>112.063731</td>\n",
       "      <td>33.684453</td>\n",
       "      <td>33.838355</td>\n",
       "      <td>21.517688</td>\n",
       "      <td>7.310079e+05</td>\n",
       "    </tr>\n",
       "    <tr>\n",
       "      <th>degree_p</th>\n",
       "      <td>-41.465047</td>\n",
       "      <td>42.702550</td>\n",
       "      <td>33.684453</td>\n",
       "      <td>53.604710</td>\n",
       "      <td>22.078774</td>\n",
       "      <td>17.185200</td>\n",
       "      <td>4.663363e+05</td>\n",
       "    </tr>\n",
       "    <tr>\n",
       "      <th>etest_p</th>\n",
       "      <td>52.556168</td>\n",
       "      <td>37.659225</td>\n",
       "      <td>33.838355</td>\n",
       "      <td>22.078774</td>\n",
       "      <td>176.251018</td>\n",
       "      <td>16.886973</td>\n",
       "      <td>3.727004e+05</td>\n",
       "    </tr>\n",
       "    <tr>\n",
       "      <th>mba_p</th>\n",
       "      <td>8.102336</td>\n",
       "      <td>24.535952</td>\n",
       "      <td>21.517688</td>\n",
       "      <td>17.185200</td>\n",
       "      <td>16.886973</td>\n",
       "      <td>34.028376</td>\n",
       "      <td>1.239934e+05</td>\n",
       "    </tr>\n",
       "    <tr>\n",
       "      <th>salary</th>\n",
       "      <td>11383.177570</td>\n",
       "      <td>908858.485818</td>\n",
       "      <td>731007.850848</td>\n",
       "      <td>466336.264888</td>\n",
       "      <td>372700.449468</td>\n",
       "      <td>123993.387361</td>\n",
       "      <td>2.259185e+10</td>\n",
       "    </tr>\n",
       "  </tbody>\n",
       "</table>\n",
       "</div>"
      ],
      "text/plain": [
       "                 sl_no          ssc_p          hsc_p       degree_p  \\\n",
       "sl_no      3870.000000     -52.641355     -59.598879     -41.465047   \n",
       "ssc_p       -52.641355     117.228377      58.853253      42.702550   \n",
       "hsc_p       -59.598879      58.853253     112.063731      33.684453   \n",
       "degree_p    -41.465047      42.702550      33.684453      53.604710   \n",
       "etest_p      52.556168      37.659225      33.838355      22.078774   \n",
       "mba_p         8.102336      24.535952      21.517688      17.185200   \n",
       "salary    11383.177570  908858.485818  731007.850848  466336.264888   \n",
       "\n",
       "                etest_p          mba_p        salary  \n",
       "sl_no         52.556168       8.102336  1.138318e+04  \n",
       "ssc_p         37.659225      24.535952  9.088585e+05  \n",
       "hsc_p         33.838355      21.517688  7.310079e+05  \n",
       "degree_p      22.078774      17.185200  4.663363e+05  \n",
       "etest_p      176.251018      16.886973  3.727004e+05  \n",
       "mba_p         16.886973      34.028376  1.239934e+05  \n",
       "salary    372700.449468  123993.387361  2.259185e+10  "
      ]
     },
     "execution_count": 4,
     "metadata": {},
     "output_type": "execute_result"
    }
   ],
   "source": [
    "dataset.cov()\n",
    "#finding covariance in the dataset"
   ]
  },
  {
   "cell_type": "code",
   "execution_count": 7,
   "id": "d700c499",
   "metadata": {},
   "outputs": [
    {
     "data": {
      "text/html": [
       "<div>\n",
       "<style scoped>\n",
       "    .dataframe tbody tr th:only-of-type {\n",
       "        vertical-align: middle;\n",
       "    }\n",
       "\n",
       "    .dataframe tbody tr th {\n",
       "        vertical-align: top;\n",
       "    }\n",
       "\n",
       "    .dataframe thead th {\n",
       "        text-align: right;\n",
       "    }\n",
       "</style>\n",
       "<table border=\"1\" class=\"dataframe\">\n",
       "  <thead>\n",
       "    <tr style=\"text-align: right;\">\n",
       "      <th></th>\n",
       "      <th>sl_no</th>\n",
       "      <th>ssc_p</th>\n",
       "      <th>hsc_p</th>\n",
       "      <th>degree_p</th>\n",
       "      <th>etest_p</th>\n",
       "      <th>mba_p</th>\n",
       "      <th>salary</th>\n",
       "    </tr>\n",
       "  </thead>\n",
       "  <tbody>\n",
       "    <tr>\n",
       "      <th>sl_no</th>\n",
       "      <td>1.000000</td>\n",
       "      <td>-0.078155</td>\n",
       "      <td>-0.090500</td>\n",
       "      <td>-0.091039</td>\n",
       "      <td>0.063636</td>\n",
       "      <td>0.022327</td>\n",
       "      <td>0.001217</td>\n",
       "    </tr>\n",
       "    <tr>\n",
       "      <th>ssc_p</th>\n",
       "      <td>-0.078155</td>\n",
       "      <td>1.000000</td>\n",
       "      <td>0.513478</td>\n",
       "      <td>0.538686</td>\n",
       "      <td>0.261993</td>\n",
       "      <td>0.388478</td>\n",
       "      <td>0.558475</td>\n",
       "    </tr>\n",
       "    <tr>\n",
       "      <th>hsc_p</th>\n",
       "      <td>-0.090500</td>\n",
       "      <td>0.513478</td>\n",
       "      <td>1.000000</td>\n",
       "      <td>0.434606</td>\n",
       "      <td>0.240775</td>\n",
       "      <td>0.348452</td>\n",
       "      <td>0.459424</td>\n",
       "    </tr>\n",
       "    <tr>\n",
       "      <th>degree_p</th>\n",
       "      <td>-0.091039</td>\n",
       "      <td>0.538686</td>\n",
       "      <td>0.434606</td>\n",
       "      <td>1.000000</td>\n",
       "      <td>0.227147</td>\n",
       "      <td>0.402376</td>\n",
       "      <td>0.423762</td>\n",
       "    </tr>\n",
       "    <tr>\n",
       "      <th>etest_p</th>\n",
       "      <td>0.063636</td>\n",
       "      <td>0.261993</td>\n",
       "      <td>0.240775</td>\n",
       "      <td>0.227147</td>\n",
       "      <td>1.000000</td>\n",
       "      <td>0.218055</td>\n",
       "      <td>0.186775</td>\n",
       "    </tr>\n",
       "    <tr>\n",
       "      <th>mba_p</th>\n",
       "      <td>0.022327</td>\n",
       "      <td>0.388478</td>\n",
       "      <td>0.348452</td>\n",
       "      <td>0.402376</td>\n",
       "      <td>0.218055</td>\n",
       "      <td>1.000000</td>\n",
       "      <td>0.141417</td>\n",
       "    </tr>\n",
       "    <tr>\n",
       "      <th>salary</th>\n",
       "      <td>0.001217</td>\n",
       "      <td>0.558475</td>\n",
       "      <td>0.459424</td>\n",
       "      <td>0.423762</td>\n",
       "      <td>0.186775</td>\n",
       "      <td>0.141417</td>\n",
       "      <td>1.000000</td>\n",
       "    </tr>\n",
       "  </tbody>\n",
       "</table>\n",
       "</div>"
      ],
      "text/plain": [
       "             sl_no     ssc_p     hsc_p  degree_p   etest_p     mba_p    salary\n",
       "sl_no     1.000000 -0.078155 -0.090500 -0.091039  0.063636  0.022327  0.001217\n",
       "ssc_p    -0.078155  1.000000  0.513478  0.538686  0.261993  0.388478  0.558475\n",
       "hsc_p    -0.090500  0.513478  1.000000  0.434606  0.240775  0.348452  0.459424\n",
       "degree_p -0.091039  0.538686  0.434606  1.000000  0.227147  0.402376  0.423762\n",
       "etest_p   0.063636  0.261993  0.240775  0.227147  1.000000  0.218055  0.186775\n",
       "mba_p     0.022327  0.388478  0.348452  0.402376  0.218055  1.000000  0.141417\n",
       "salary    0.001217  0.558475  0.459424  0.423762  0.186775  0.141417  1.000000"
      ]
     },
     "execution_count": 7,
     "metadata": {},
     "output_type": "execute_result"
    }
   ],
   "source": [
    "#finding correlation in the dataset\n",
    "#correlation-calculate the relationship between the two columns\n",
    "dataset.corr()"
   ]
  },
  {
   "cell_type": "code",
   "execution_count": 8,
   "id": "c2c2deaf",
   "metadata": {},
   "outputs": [
    {
     "data": {
      "text/plain": [
       "sl_no      -0.078155\n",
       "ssc_p       1.000000\n",
       "hsc_p       0.513478\n",
       "degree_p    0.538686\n",
       "etest_p     0.261993\n",
       "mba_p       0.388478\n",
       "salary      0.558475\n",
       "dtype: float64"
      ]
     },
     "execution_count": 8,
     "metadata": {},
     "output_type": "execute_result"
    }
   ],
   "source": [
    "dataset.corrwith(dataset[\"ssc_p\"])"
   ]
  },
  {
   "cell_type": "code",
   "execution_count": 9,
   "id": "c895abbb",
   "metadata": {},
   "outputs": [
    {
     "name": "stderr",
     "output_type": "stream",
     "text": [
      "C:\\Users\\Yaazh\\anaconda3\\lib\\site-packages\\seaborn\\distributions.py:2619: FutureWarning: `distplot` is a deprecated function and will be removed in a future version. Please adapt your code to use either `displot` (a figure-level function with similar flexibility) or `histplot` (an axes-level function for histograms).\n",
      "  warnings.warn(msg, FutureWarning)\n"
     ]
    },
    {
     "data": {
      "text/plain": [
       "<AxesSubplot:xlabel='ssc_p', ylabel='Density'>"
      ]
     },
     "execution_count": 9,
     "metadata": {},
     "output_type": "execute_result"
    },
    {
     "data": {
      "image/png": "[encoded data removed]",
      "text/plain": [
       "<Figure size 432x288 with 1 Axes>"
      ]
     },
     "metadata": {
      "needs_background": "light"
     },
     "output_type": "display_data"
    }
   ],
   "source": [
    "import seaborn as sns\n",
    "\n",
    "sns.distplot(dataset[\"ssc_p\"])"
   ]
  },
  {
   "cell_type": "code",
   "execution_count": 10,
   "id": "adc28fe9",
   "metadata": {},
   "outputs": [
    {
     "name": "stderr",
     "output_type": "stream",
     "text": [
      "C:\\Users\\Yaazh\\anaconda3\\lib\\site-packages\\seaborn\\distributions.py:2619: FutureWarning: `distplot` is a deprecated function and will be removed in a future version. Please adapt your code to use either `displot` (a figure-level function with similar flexibility) or `histplot` (an axes-level function for histograms).\n",
      "  warnings.warn(msg, FutureWarning)\n"
     ]
    },
    {
     "data": {
      "text/plain": [
       "<AxesSubplot:xlabel='salary', ylabel='Density'>"
      ]
     },
     "execution_count": 10,
     "metadata": {},
     "output_type": "execute_result"
    },
    {
     "data": {
      "image/png": "[encoded data removed]",
      "text/plain": [
       "<Figure size 432x288 with 1 Axes>"
      ]
     },
     "metadata": {
      "needs_background": "light"
     },
     "output_type": "display_data"
    }
   ],
   "source": [
    "sns.distplot(dataset[\"salary\"])"
   ]
  },
  {
   "cell_type": "code",
   "execution_count": 11,
   "id": "ba0995ab",
   "metadata": {},
   "outputs": [
    {
     "name": "stderr",
     "output_type": "stream",
     "text": [
      "C:\\Users\\Yaazh\\anaconda3\\lib\\site-packages\\seaborn\\distributions.py:2619: FutureWarning: `distplot` is a deprecated function and will be removed in a future version. Please adapt your code to use either `displot` (a figure-level function with similar flexibility) or `histplot` (an axes-level function for histograms).\n",
      "  warnings.warn(msg, FutureWarning)\n"
     ]
    },
    {
     "data": {
      "text/plain": [
       "<AxesSubplot:xlabel='etest_p', ylabel='Density'>"
      ]
     },
     "execution_count": 11,
     "metadata": {},
     "output_type": "execute_result"
    },
    {
     "data": {
      "image/png": "[encoded data removed]",
      "text/plain": [
       "<Figure size 432x288 with 1 Axes>"
      ]
     },
     "metadata": {
      "needs_background": "light"
     },
     "output_type": "display_data"
    }
   ],
   "source": [
    "sns.distplot(dataset[\"etest_p\"])"
   ]
  },
  {
   "cell_type": "code",
   "execution_count": null,
   "id": "27613b0b",
   "metadata": {},
   "outputs": [],
   "source": []
  },
  {
   "cell_type": "code",
   "execution_count": null,
   "id": "2c8113f3",
   "metadata": {},
   "outputs": [],
   "source": []
  },
  {
   "cell_type": "code",
   "execution_count": null,
   "id": "5d1fe102",
   "metadata": {},
   "outputs": [],
   "source": []
  }
 ],
 "metadata": {
  "kernelspec": {
   "display_name": "Python 3 (ipykernel)",
   "language": "python",
   "name": "python3"
  },
  "language_info": {
   "codemirror_mode": {
    "name": "ipython",
    "version": 3
   },
   "file_extension": ".py",
   "mimetype": "text/x-python",
   "name": "python",
   "nbconvert_exporter": "python",
   "pygments_lexer": "ipython3",
   "version": "3.9.12"
  }
 },
 "nbformat": 4,
 "nbformat_minor": 5
}
